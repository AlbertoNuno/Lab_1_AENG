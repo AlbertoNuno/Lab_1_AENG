{
 "cells": [
  {
   "cell_type": "code",
   "execution_count": null,
   "metadata": {},
   "outputs": [],
   "source": [
    "import Funciones as fn\n",
    "import pandas as pd\n",
    "from Datos import token\n",
    "import numpy as np\n",
    "from datetime import datetime, timedelta\n",
    "import scipy.stats as st\n",
    "from statsmodels.stats.diagnostic import acorr_ljungbox, het_arch\n",
    "from statsmodels.graphics.tsaplots import plot_acf,plot_pacf\n",
    "from RegscorePy import aic\n",
    "from statsmodels.tsa.arima_model import ARIMA\n",
    "from statsmodels.tsa.stattools import pacf, acf\n",
    "from arch import arch_model\n",
    "from scipy.optimize import least_squares\n",
    "\n"
   ]
  },
  {
   "cell_type": "markdown",
   "metadata": {},
   "source": [
    "### Obtención de precios de cierre"
   ]
  },
  {
   "cell_type": "code",
   "execution_count": null,
   "metadata": {},
   "outputs": [],
   "source": [
    "def get_closes(instrument,granularity):\n",
    "    f_inicio = pd.to_datetime(\"2015-01-06 00:00:00\").tz_localize('GMT')\n",
    "    if granularity == 'D':\n",
    "        f_fin = pd.to_datetime((datetime.today()-timedelta(days=1)).strftime(\"%m/%d/%Y, %H:%M:%S\")).tz_localize('GMT')\n",
    "    else :\n",
    "        f_fin = pd.to_datetime((datetime.now()).strftime(\"%m/%d/%Y, %H:%M:%S\")).tz_localize('GMT')\n",
    "    precios = fn.f_precios_masivos(p0_fini=f_inicio, p1_ffin=f_fin, p2_gran=granularity,\n",
    "                                   p3_inst=instrument, p4_oatk=token, p5_ginc=4900)\n",
    "\n",
    "    precios = pd.DataFrame(data={'High': precios.High, 'Low': precios.Low, 'Close': precios.Close\n",
    "                                 }).astype('float')\n",
    "\n",
    "\n",
    "    return precios.Close\n",
    "\n"
   ]
  },
  {
   "cell_type": "markdown",
   "metadata": {},
   "source": [
    "### Cálculo de rendimientos"
   ]
  },
  {
   "cell_type": "code",
   "execution_count": null,
   "metadata": {},
   "outputs": [],
   "source": [
    "def returns(instrument,granularity):\n",
    "    precios = get_closes(instrument,granularity)\n",
    "    rendimientos = (precios - precios.shift(1) / precios.shift(1)).iloc[1:]\n",
    "    return rendimientos\n"
   ]
  },
  {
   "cell_type": "markdown",
   "metadata": {},
   "source": [
    "### Cáculo del VaR paramétrico"
   ]
  },
  {
   "cell_type": "code",
   "execution_count": null,
   "metadata": {},
   "outputs": [],
   "source": [
    "def parametric_var(instrument,granularity,exposure,possition): ##devuelve el VaR a un día tomando un año de datos\n",
    "    \"\"\"\n",
    "        Parameters\n",
    "        ----------\n",
    "        instrumet\n",
    "        granularity\n",
    "        exposure\n",
    "        posstion\n",
    "        Returns\n",
    "        -------\n",
    "        var\n",
    "        ---------\n",
    "        \"\"\"\n",
    "    rendimientos=returns(instrument,granularity)\n",
    "    precios = get_closes(instrument,granularity)\n",
    "\n",
    "    if possition == 'long':\n",
    "        volatilidad = np.std(rendimientos)\n",
    "        percentil = np.percentile(rendimientos, 1)\n",
    "        valor_z = st.norm.ppf(percentil)\n",
    "        var = valor_z * volatilidad * exposure*precios.iloc[-1]\n",
    "    elif possition=='short':\n",
    "\n",
    "        volatilidad = np.std(rendimientos)\n",
    "        percentil = np.percentile(rendimientos, 99)\n",
    "        valor_z = st.norm.ppf(percentil)\n",
    "        var = valor_z * volatilidad * exposure*precios.iloc[-1]\n",
    "    return var,precios.iloc[-1]\n",
    "\n",
    "\n",
    "\n"
   ]
  },
  {
   "cell_type": "markdown",
   "metadata": {},
   "source": [
    "### Proyección a un día del precio de un actibo a partir de una modificación hecha al modelo de Black-Scholes con el proceso de Ornstein-Uhlenbeck"
   ]
  },
  {
   "cell_type": "code",
   "execution_count": null,
   "metadata": {},
   "outputs": [],
   "source": [
    "def modified_blackScholes(instrument,dt):\n",
    "    \"\"\"\"\"\n",
    "    Parameters\n",
    "    ----------\n",
    "    instrument\n",
    "    dt\n",
    "\n",
    "    \"\"\"\n",
    "    mu = np.mean(instrument)\n",
    "    b= (pd.DataFrame(instrument.iloc[1:],instrument.shift(1)).cov())/instrument.shift(1)\n",
    "    k = -np.log(b)/dt\n",
    "\n",
    "    st= instrument.iloc[-1]\n",
    "    s0=instrument.iloc[0]\n",
    "    sigma = np.std(instrument.iloc[len(instrument)-250:])\n",
    "    k=0\n",
    "    st = (mu +.5*(sigma**2) -k*(np.log(st)-np.log(s0)-mu*dt) + (sigma*np.random.normal(0, dt)))\n",
    "\n",
    "    return st\n"
   ]
  },
  {
   "cell_type": "markdown",
   "metadata": {},
   "source": [
    "### Pronóstico de volatilidad a través de un modelo GARCH"
   ]
  },
  {
   "cell_type": "code",
   "execution_count": null,
   "metadata": {},
   "outputs": [],
   "source": [
    "def volatility_forecast(instrument,granularity,days_to_forecast):\n",
    "    significant_coef = lambda i : i if i>.5 else None\n",
    "    rendimientos =returns(instrument,granularity)\n",
    "    arima = ARIMA(rendimientos,order=(2,1,2))\n",
    "    arima_fit = arima.fit(disp=0)\n",
    "    residuals = pd.DataFrame(arima_fit.resid)\n",
    "    residuals= residuals**2\n",
    "    acf_coef = acf(residuals)\n",
    "    q =list([significant_coef(i) for i in acf_coef])\n",
    "    q =len(list(i for i in q if i))\n",
    "    pacf_coef = pacf(residuals)\n",
    "    p = list([significant_coef(i)for i in pacf_coef])\n",
    "    p = len(list([i for i in p if i ]))\n",
    "    garch_model = arch_model(residuals,mean=\"Zero\",vol='GARCH',p=p,q=q)\n",
    "    garch_model_fit=garch_model.fit()\n",
    "    vol_forecast = garch_model_fit.forecast(horizon=days_to_forecast)\n",
    "    return np.sqrt(vol_forecast.variance.values[-1:])\n",
    "\n",
    "\n",
    "\n"
   ]
  },
  {
   "cell_type": "markdown",
   "metadata": {},
   "source": [
    "### Estimación de la siguiente dirección  (alcista o bajista) del activo "
   ]
  },
  {
   "cell_type": "code",
   "execution_count": null,
   "metadata": {},
   "outputs": [],
   "source": [
    "def next_direction(instrument,granularity,days_to_forecast):\n",
    "    rendimientos = returns(instrument,granularity)\n",
    "    vol=volatility_forecast(instrument,granularity,days_to_forecast)\n",
    "    return rendimientos[-1] *vol\n"
   ]
  }
 ],
 "metadata": {
  "kernelspec": {
   "display_name": "Python 3",
   "language": "python",
   "name": "python3"
  },
  "language_info": {
   "codemirror_mode": {
    "name": "ipython",
    "version": 3
   },
   "file_extension": ".py",
   "mimetype": "text/x-python",
   "name": "python",
   "nbconvert_exporter": "python",
   "pygments_lexer": "ipython3",
   "version": "3.7.4"
  }
 },
 "nbformat": 4,
 "nbformat_minor": 2
}
